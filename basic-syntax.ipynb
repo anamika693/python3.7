{
 "cells": [
  {
   "cell_type": "markdown",
   "metadata": {},
   "source": [
    "#### BASIC SYNTAX OF PYTHON"
   ]
  },
  {
   "cell_type": "markdown",
   "metadata": {},
   "source": [
    "PYthon is similar to other languages like c , perl etc \n",
    "However there are some differences in other languages.\n",
    "\n",
    "To understand this topic we have to write a python program. Lets start.\n"
   ]
  },
  {
   "cell_type": "markdown",
   "metadata": {},
   "source": [
    "Hello World Program"
   ]
  },
  {
   "cell_type": "markdown",
   "metadata": {},
   "source": [
    "###### Interactive Mode\n",
    "\n",
    "In your command line terminal type the following command\n",
    "\n",
    "vipin@vipin-Lenovo-G580:~$python\n",
    "\n",
    "you will get following output \n",
    "\n",
    "Python 3.7.0 (default, Jun 28 2018, 13:15:42) \n",
    "[GCC 7.2.0] :: Anaconda, Inc. on linux\n",
    "Type \"help\", \"copyright\", \"credits\" or \"license\" for more information.\n",
    ">>> \n",
    "\n",
    "Type the following text at the Python prompt. And Enter\n",
    "\n",
    ">>> print \"Hello World\"\n",
    "\n",
    "this produces the following result\n",
    "\n",
    "Hello World\n",
    ">>>\n",
    "\n",
    "If you are using new version the use \n",
    "\n",
    "print(\"Hello World\")"
   ]
  },
  {
   "cell_type": "markdown",
   "metadata": {},
   "source": [
    "###### Script Mode"
   ]
  },
  {
   "cell_type": "markdown",
   "metadata": {},
   "source": [
    " write a simple Python program in a script. Python files have extension .py. Type the following source code in a hello.py file\n",
    " \n",
    " print \"Hello World\"\n",
    " \n",
    " run the script with following command\n",
    " \n",
    " vipin@vipin-Lenovo-G580:~$ python hello.py\n",
    " \n",
    " This produces the following result −\n",
    " \n",
    "  Hello World "
   ]
  },
  {
   "cell_type": "markdown",
   "metadata": {},
   "source": [
    "Another way to execute a Python script. Here is the modified hello.py file −\n",
    "\n",
    "#!/usr/bin/python\n",
    "\n",
    "print \"Hello World\"\n",
    "\n",
    "Now,run this program as follows −\n",
    "\n",
    "$ chmod +x hello.py     # This is to make file executable\n",
    "$./hello.py"
   ]
  },
  {
   "cell_type": "code",
   "execution_count": null,
   "metadata": {},
   "outputs": [],
   "source": [
    "this produces the following result\n",
    "\n",
    "Hello World"
   ]
  },
  {
   "cell_type": "markdown",
   "metadata": {},
   "source": [
    "###### Python Identifiers\n",
    "\n",
    "A Python identifier is a name used to identify a variable, function, class, module or other object. \n",
    "\n",
    "Python does not allow punctuation characters such as @, $, and % \n",
    "within identifiers except underscore(_). Python is a case sensitive programming language. \n",
    "Thus, firstname and Firstname are two different identifiers in Python\n",
    "\n"
   ]
  },
  {
   "cell_type": "markdown",
   "metadata": {},
   "source": [
    "###### Naming conventions for identifiers"
   ]
  },
  {
   "cell_type": "markdown",
   "metadata": {},
   "source": [
    "1) Class names start with an uppercase letter. All other identifiers start with a lowercase letter.\n",
    "\n",
    "2) Starting an identifier with a single leading underscore indicates that the identifier is private\n",
    "\n",
    "3) If the identifier also ends with two trailing underscores, the identifier is a language-defined special name\n",
    "\n",
    "4) Starting an identifier with two leading underscores indicates a strongly private identifier."
   ]
  },
  {
   "cell_type": "markdown",
   "metadata": {},
   "source": [
    "###### Reserved Words\n",
    "\n",
    "The following list shows the Python keywords"
   ]
  },
  {
   "cell_type": "markdown",
   "metadata": {},
   "source": [
    "and         exec \t not\n",
    "assert \t    finally  or\n",
    "break \t    for \t pass\n",
    "class \t    from \t print\n",
    "continue \tglobal \t raise\n",
    "def \t    if \t     return\n",
    "del \t    import \t  try\n",
    "elif \t    in \t      while\n",
    "else \t    is \t      with\n",
    "except \t    lambda \t  yield"
   ]
  },
  {
   "cell_type": "markdown",
   "metadata": {},
   "source": [
    "###### Indentation"
   ]
  },
  {
   "cell_type": "markdown",
   "metadata": {},
   "source": [
    "Blocks of code are denoted by line indentation, which is rigidly enforced. The number of spaces in the indentation is variable, but all statements within the block must be indented the same amount. For example −"
   ]
  },
  {
   "cell_type": "code",
   "execution_count": 3,
   "metadata": {},
   "outputs": [
    {
     "name": "stdout",
     "output_type": "stream",
     "text": [
      "Hello World\n",
      "Hello World\n",
      "Hello World\n",
      "Hello World\n"
     ]
    }
   ],
   "source": [
    "#indented code \n",
    "\n",
    "for x in range(4):\n",
    "    print(\"Hello World\")\n",
    "    "
   ]
  },
  {
   "cell_type": "code",
   "execution_count": 4,
   "metadata": {},
   "outputs": [
    {
     "ename": "IndentationError",
     "evalue": "expected an indented block (<ipython-input-4-af86be8426b5>, line 4)",
     "output_type": "error",
     "traceback": [
      "\u001b[0;36m  File \u001b[0;32m\"<ipython-input-4-af86be8426b5>\"\u001b[0;36m, line \u001b[0;32m4\u001b[0m\n\u001b[0;31m    print(\"Hello World\")\u001b[0m\n\u001b[0m        ^\u001b[0m\n\u001b[0;31mIndentationError\u001b[0m\u001b[0;31m:\u001b[0m expected an indented block\n"
     ]
    }
   ],
   "source": [
    "#Not indented code \n",
    "\n",
    "for x in range(4):\n",
    "print(\"Hello World\")"
   ]
  },
  {
   "cell_type": "markdown",
   "metadata": {},
   "source": [
    "###### Multi-Line Statements\n",
    "\n",
    "You can write a long statement in multiple line. The following code show multiline statements"
   ]
  },
  {
   "cell_type": "code",
   "execution_count": 5,
   "metadata": {},
   "outputs": [
    {
     "data": {
      "text/plain": [
       "70"
      ]
     },
     "execution_count": 5,
     "metadata": {},
     "output_type": "execute_result"
    }
   ],
   "source": [
    "a=10\n",
    "b=20\n",
    "c=40\n",
    "total = a + \\\n",
    "        b + \\\n",
    "        c\n",
    "total"
   ]
  },
  {
   "cell_type": "markdown",
   "metadata": {},
   "source": [
    " the [], {}, or () brackets statements do not need to use the line continuation character. For example −"
   ]
  },
  {
   "cell_type": "code",
   "execution_count": 6,
   "metadata": {},
   "outputs": [
    {
     "name": "stdout",
     "output_type": "stream",
     "text": [
      "[1, 3, 3, 6]\n"
     ]
    }
   ],
   "source": [
    "a = [ \n",
    "    1,3,\n",
    "    3,6\n",
    "]\n",
    "print(a)"
   ]
  },
  {
   "cell_type": "code",
   "execution_count": 7,
   "metadata": {},
   "outputs": [
    {
     "name": "stdout",
     "output_type": "stream",
     "text": [
      "{'a': '1', 'b': '2'}\n"
     ]
    }
   ],
   "source": [
    "a = {\n",
    "    'a':'1',\n",
    "    'b':'2'\n",
    "}\n",
    "print(a)"
   ]
  },
  {
   "cell_type": "code",
   "execution_count": 8,
   "metadata": {},
   "outputs": [
    {
     "data": {
      "text/plain": [
       "(2, 6, 6, 7)"
      ]
     },
     "execution_count": 8,
     "metadata": {},
     "output_type": "execute_result"
    }
   ],
   "source": [
    "a = (\n",
    "    2,6,\n",
    "    6,7\n",
    ")\n",
    "a"
   ]
  },
  {
   "cell_type": "markdown",
   "metadata": {},
   "source": [
    "###### Comments in Python\n",
    "There are two types of comments in python\n",
    "a) single line comment\n",
    "b) Multilines comments"
   ]
  },
  {
   "cell_type": "markdown",
   "metadata": {},
   "source": [
    "###### single line comments\n",
    "Single line comments start with #.\n",
    "Everything after # in one line will be considered as comment\n",
    "\n"
   ]
  },
  {
   "cell_type": "code",
   "execution_count": null,
   "metadata": {},
   "outputs": [],
   "source": [
    "#single line comment example"
   ]
  },
  {
   "cell_type": "markdown",
   "metadata": {},
   "source": [
    "###### Multilines comments\n",
    "You can use triple-quoted strings. When they're not a docstring (first thing in a class/function/module), they are ignored. \n",
    "\n",
    "'''\n",
    "This is a multiline\n",
    "comment.\n",
    "'''\n",
    "OR\n",
    "\n",
    "\"\"\"\n",
    "This is a multiline\n",
    "comment.\n",
    "\"\"\"\n"
   ]
  },
  {
   "cell_type": "code",
   "execution_count": 9,
   "metadata": {},
   "outputs": [
    {
     "name": "stdout",
     "output_type": "stream",
     "text": [
      "Hello\n",
      "Bye!!!\n"
     ]
    }
   ],
   "source": [
    "#multilines comment example\n",
    "\"\"\"\n",
    "multi \n",
    "lines \n",
    "comments\n",
    "\"\"\"\n",
    "print(\"Hello\")\n",
    "\n",
    "'''\n",
    "multi \n",
    "lines \n",
    "comments\n",
    "'''\n",
    "print(\"Bye!!!\")"
   ]
  },
  {
   "cell_type": "markdown",
   "metadata": {},
   "source": [
    "###### Multiple Statements in Single Line\n",
    "The semicolon ( ; ) allows multiple statements on the single line \n",
    "\n",
    "Example given below"
   ]
  },
  {
   "cell_type": "code",
   "execution_count": 11,
   "metadata": {},
   "outputs": [
    {
     "name": "stdout",
     "output_type": "stream",
     "text": [
      "2\n",
      "10\n"
     ]
    }
   ],
   "source": [
    "a=2; b=10; print(a); print(b);"
   ]
  }
 ],
 "metadata": {
  "kernelspec": {
   "display_name": "Python 3",
   "language": "python",
   "name": "python3"
  },
  "language_info": {
   "codemirror_mode": {
    "name": "ipython",
    "version": 3
   },
   "file_extension": ".py",
   "mimetype": "text/x-python",
   "name": "python",
   "nbconvert_exporter": "python",
   "pygments_lexer": "ipython3",
   "version": "3.7.0"
  }
 },
 "nbformat": 4,
 "nbformat_minor": 2
}
